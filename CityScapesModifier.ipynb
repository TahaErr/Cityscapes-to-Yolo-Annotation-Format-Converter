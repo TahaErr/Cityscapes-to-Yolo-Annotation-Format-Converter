{
 "cells": [
  {
   "cell_type": "code",
   "execution_count": null,
   "id": "6cf445d9-cf0c-44a5-b9ba-834864c6c909",
   "metadata": {},
   "outputs": [],
   "source": [
    "from pathlib import Path\n",
    "\n",
    "ROOT = Path(r\"/path/to/root\")  # ← üst klasör yolunu girin\n",
    "\n",
    "KEEP_PNG_SUFFIXES = (\"_gtFine_color.png\", \"_leftImg8bit.png\")\n",
    "keep_png_lower = tuple(s.lower() for s in KEEP_PNG_SUFFIXES)\n",
    "\n",
    "deleted_png = deleted_json = kept_png = 0\n",
    "\n",
    "for p in ROOT.rglob(\"*\"):\n",
    "    if not p.is_file():\n",
    "        continue\n",
    "    name_lc = p.name.lower()\n",
    "    suf_lc  = p.suffix.lower()\n",
    "\n",
    "    try:\n",
    "        if suf_lc == \".png\":\n",
    "            if name_lc.endswith(keep_png_lower):\n",
    "                kept_png += 1\n",
    "            else:\n",
    "                p.unlink()\n",
    "                deleted_png += 1\n",
    "                print(\"Silindi (PNG):\", p.relative_to(ROOT))\n",
    "        elif suf_lc == \".json\":\n",
    "            p.unlink()\n",
    "            deleted_json += 1\n",
    "            print(\"Silindi (JSON):\", p.relative_to(ROOT))\n",
    "    except Exception as e:\n",
    "        print(\"Hata silerken:\", p, \"->\", e)\n",
    "\n",
    "print(\"\\nÖzet:\")\n",
    "print(f\"  Korunan PNG: {kept_png}\")\n",
    "print(f\"  Silinen PNG: {deleted_png}\")\n",
    "print(f\"  Silinen JSON: {deleted_json}\")\n"
   ]
  }
 ],
 "metadata": {
  "kernelspec": {
   "display_name": "Python 3 (ipykernel)",
   "language": "python",
   "name": "python3"
  },
  "language_info": {
   "codemirror_mode": {
    "name": "ipython",
    "version": 3
   },
   "file_extension": ".py",
   "mimetype": "text/x-python",
   "name": "python",
   "nbconvert_exporter": "python",
   "pygments_lexer": "ipython3",
   "version": "3.12.9"
  }
 },
 "nbformat": 4,
 "nbformat_minor": 5
}
